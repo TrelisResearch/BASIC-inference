{
 "cells": [
  {
   "cell_type": "markdown",
   "id": "2cbe08a0-67a3-4b71-ba8c-4cf464689a78",
   "metadata": {},
   "source": [
    "# PEFT Inference\n",
    "---\n",
    "\n",
    "A script by [Trelis Research](youtube.com/@TrelisResearch)\n",
    "\n",
    "---"
   ]
  },
  {
   "cell_type": "code",
   "execution_count": 1,
   "id": "f5d1b590-83de-46a4-af62-98312c083826",
   "metadata": {},
   "outputs": [
    {
     "name": "stdout",
     "output_type": "stream",
     "text": [
      "\u001b[33mWARNING: Running pip as the 'root' user can result in broken permissions and conflicting behaviour with the system package manager. It is recommended to use a virtual environment instead: https://pip.pypa.io/warnings/venv\u001b[0m\u001b[33m\n",
      "\u001b[0m\n",
      "\u001b[1m[\u001b[0m\u001b[34;49mnotice\u001b[0m\u001b[1;39;49m]\u001b[0m\u001b[39;49m A new release of pip is available: \u001b[0m\u001b[31;49m23.3.1\u001b[0m\u001b[39;49m -> \u001b[0m\u001b[32;49m24.3.1\u001b[0m\n",
      "\u001b[1m[\u001b[0m\u001b[34;49mnotice\u001b[0m\u001b[1;39;49m]\u001b[0m\u001b[39;49m To update, run: \u001b[0m\u001b[32;49mpython -m pip install --upgrade pip\u001b[0m\n"
     ]
    }
   ],
   "source": [
    "!pip install transformers peft accelerate -qU"
   ]
  },
  {
   "cell_type": "code",
   "execution_count": 2,
   "id": "891d71de-d6f5-427c-bca7-b6e882fac03f",
   "metadata": {},
   "outputs": [
    {
     "name": "stdout",
     "output_type": "stream",
     "text": [
      "Collecting hf_transfer\n",
      "  Downloading hf_transfer-0.1.8-cp310-cp310-manylinux_2_17_x86_64.manylinux2014_x86_64.whl.metadata (1.7 kB)\n",
      "Downloading hf_transfer-0.1.8-cp310-cp310-manylinux_2_17_x86_64.manylinux2014_x86_64.whl (3.6 MB)\n",
      "\u001b[2K   \u001b[90m━━━━━━━━━━━━━━━━━━━━━━━━━━━━━━━━━━━━━━━━\u001b[0m \u001b[32m3.6/3.6 MB\u001b[0m \u001b[31m47.2 MB/s\u001b[0m eta \u001b[36m0:00:00\u001b[0m00:01\u001b[0m0:02\u001b[0m\n",
      "\u001b[?25hInstalling collected packages: hf_transfer\n",
      "Successfully installed hf_transfer-0.1.8\n",
      "\u001b[33mWARNING: Running pip as the 'root' user can result in broken permissions and conflicting behaviour with the system package manager. It is recommended to use a virtual environment instead: https://pip.pypa.io/warnings/venv\u001b[0m\u001b[33m\n",
      "\u001b[0m\n",
      "\u001b[1m[\u001b[0m\u001b[34;49mnotice\u001b[0m\u001b[1;39;49m]\u001b[0m\u001b[39;49m A new release of pip is available: \u001b[0m\u001b[31;49m23.3.1\u001b[0m\u001b[39;49m -> \u001b[0m\u001b[32;49m24.3.1\u001b[0m\n",
      "\u001b[1m[\u001b[0m\u001b[34;49mnotice\u001b[0m\u001b[1;39;49m]\u001b[0m\u001b[39;49m To update, run: \u001b[0m\u001b[32;49mpython -m pip install --upgrade pip\u001b[0m\n"
     ]
    }
   ],
   "source": [
    "!pip install hf_transfer"
   ]
  },
  {
   "cell_type": "code",
   "execution_count": 1,
   "id": "dbf36dc1-7cac-4b77-b01e-d40fa22d2bb4",
   "metadata": {},
   "outputs": [],
   "source": [
    "import os\n",
    "\n",
    "# os.environ[\"HF_ENDPOINT\"] = \"http://localhost:5564\"\n",
    "os.environ[\"HF_HUB_ENABLE_HF_TRANSFER\"] = \"1\""
   ]
  },
  {
   "cell_type": "code",
   "execution_count": 5,
   "id": "50c8bca5-b9d6-41ef-bcd5-73ce1810407a",
   "metadata": {},
   "outputs": [
    {
     "data": {
      "application/vnd.jupyter.widget-view+json": {
       "model_id": "595292eaa2aa43a4817f5e3ea396a04b",
       "version_major": 2,
       "version_minor": 0
      },
      "text/plain": [
       "Loading checkpoint shards:   0%|          | 0/4 [00:00<?, ?it/s]"
      ]
     },
     "metadata": {},
     "output_type": "display_data"
    }
   ],
   "source": [
    "# Install required packages if needed\n",
    "\n",
    "\n",
    "import torch\n",
    "from transformers import AutoModelForCausalLM, AutoTokenizer\n",
    "from peft import PeftModel\n",
    "\n",
    "# Load the base model and tokenizer\n",
    "base_model_id = \"Qwen/Qwen2.5-7B-Instruct\"\n",
    "adapter_id = \"Trelis/Qwen2.5-7B-Instruct-touch-rugby-1\"\n",
    "\n",
    "tokenizer = AutoTokenizer.from_pretrained(base_model_id, trust_remote_code=True)\n",
    "base_model = AutoModelForCausalLM.from_pretrained(\n",
    "    base_model_id,\n",
    "    torch_dtype=torch.bfloat16,\n",
    "    device_map=\"auto\",\n",
    "    trust_remote_code=True\n",
    ")"
   ]
  },
  {
   "cell_type": "code",
   "execution_count": 8,
   "id": "b06aefc1-d6f8-4e8d-a199-d60f97b2ac65",
   "metadata": {},
   "outputs": [],
   "source": [
    "# Test prompt\n",
    "prompt = \"How many players are on the field on each team at the start of a drop-off?\"\n",
    "\n",
    "# Function to generate response\n",
    "def generate_response(model, prompt):\n",
    "    messages = [\n",
    "        {\"role\": \"user\", \"content\": prompt}\n",
    "    ]\n",
    "\n",
    "    text = tokenizer.apply_chat_template(messages, tokenize=False, add_generation_prompt=True)\n",
    "    \n",
    "    inputs = tokenizer(text, return_tensors=\"pt\").to(model.device)\n",
    "    \n",
    "    outputs = model.generate(\n",
    "        **inputs,\n",
    "        max_new_tokens=100,\n",
    "        temperature=0.01,\n",
    "        do_sample=True,\n",
    "    )\n",
    "    \n",
    "    response = tokenizer.decode(outputs[0], skip_special_tokens=True)\n",
    "    return response"
   ]
  },
  {
   "cell_type": "code",
   "execution_count": 9,
   "id": "d9352163-4400-4b7c-ac11-b8dac19c5a7b",
   "metadata": {},
   "outputs": [
    {
     "name": "stdout",
     "output_type": "stream",
     "text": [
      "Base Model Response:\n",
      "system\n",
      "You are Qwen, created by Alibaba Cloud. You are a helpful assistant.\n",
      "user\n",
      "How many players are on the field on each team at the start of a drop-off?\n",
      "assistant\n",
      "It seems there might be some confusion in your question. The term \"drop-off\" is not commonly used in sports to describe the number of players on a field or court. Could you please clarify which sport you are referring to? \n",
      "\n",
      "For example:\n",
      "- In soccer (football), there are 11 players on the field for each team.\n",
      "- In American football, there are typically 11 players on the field for each team at the start of a play.\n",
      "- In basketball, there are\n",
      "\n",
      "Loading adapter...\n",
      "\n",
      "Adapter Model Response:\n",
      "system\n",
      "You are Qwen, created by Alibaba Cloud. You are a helpful assistant.\n",
      "user\n",
      "How many players are on the field on each team at the start of a drop-off?\n",
      "assistant\n",
      "To determine how many players are on the field at the start of a drop-off, we can follow these steps:\n",
      "\n",
      "1. **Understand the Composition of a Team**: Each team consists of 14 players, including the Interchange.\n",
      "\n",
      "2. **Interchange Rules**: The Interchange is allowed to enter and leave the field during normal play without a Change of Possession (COP).\n",
      "\n",
      "3. **Drop-Off Procedure**: A Drop-Off occurs when one team has fewer than six (\n"
     ]
    }
   ],
   "source": [
    "# Generate with base model\n",
    "print(\"Base Model Response:\")\n",
    "base_response = generate_response(base_model, prompt)\n",
    "print(base_response)\n",
    "\n",
    "# Load adapter and generate\n",
    "print(\"\\nLoading adapter...\")\n",
    "adapter_model = PeftModel.from_pretrained(base_model, adapter_id)\n",
    "\n",
    "print(\"\\nAdapter Model Response:\")\n",
    "adapter_response = generate_response(adapter_model, prompt)\n",
    "print(adapter_response)\n",
    "\n",
    "# Free up memory\n",
    "del base_model\n",
    "del adapter_model\n",
    "torch.cuda.empty_cache()"
   ]
  },
  {
   "cell_type": "code",
   "execution_count": null,
   "id": "998ee81b-2282-4876-91a9-0b56705b64aa",
   "metadata": {},
   "outputs": [],
   "source": []
  }
 ],
 "metadata": {
  "kernelspec": {
   "display_name": "Python 3 (ipykernel)",
   "language": "python",
   "name": "python3"
  },
  "language_info": {
   "codemirror_mode": {
    "name": "ipython",
    "version": 3
   },
   "file_extension": ".py",
   "mimetype": "text/x-python",
   "name": "python",
   "nbconvert_exporter": "python",
   "pygments_lexer": "ipython3",
   "version": "3.10.12"
  }
 },
 "nbformat": 4,
 "nbformat_minor": 5
}
